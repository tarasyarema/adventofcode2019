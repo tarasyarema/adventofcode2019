{
 "cells": [
  {
   "cell_type": "code",
   "execution_count": 8,
   "metadata": {},
   "outputs": [],
   "source": [
    "%matplotlib inline\n",
    "\n",
    "import matplotlib\n",
    "import numpy as np\n",
    "import matplotlib.pyplot as plt"
   ]
  },
  {
   "cell_type": "code",
   "execution_count": 16,
   "metadata": {},
   "outputs": [
    {
     "data": {
      "text/plain": [
       "array([[255, 255, 255, 255,   0, 255, 255, 255,   0,   0,   0,   0, 255,\n",
       "        255,   0,   0, 255, 255,   0,   0, 255, 255, 255,   0,   0],\n",
       "       [  0,   0,   0, 255,   0, 255,   0,   0, 255,   0,   0,   0,   0,\n",
       "        255,   0, 255,   0,   0, 255,   0, 255,   0,   0, 255,   0],\n",
       "       [  0,   0, 255,   0,   0, 255, 255, 255,   0,   0,   0,   0,   0,\n",
       "        255,   0, 255,   0,   0, 255,   0, 255, 255, 255,   0,   0],\n",
       "       [  0, 255,   0,   0,   0, 255,   0,   0, 255,   0,   0,   0,   0,\n",
       "        255,   0, 255, 255, 255, 255,   0, 255,   0,   0, 255,   0],\n",
       "       [255,   0,   0,   0,   0, 255,   0,   0, 255,   0, 255,   0,   0,\n",
       "        255,   0, 255,   0,   0, 255,   0, 255,   0,   0, 255,   0],\n",
       "       [255, 255, 255, 255,   0, 255, 255, 255,   0,   0,   0, 255, 255,\n",
       "          0,   0, 255,   0,   0, 255,   0, 255, 255, 255,   0,   0]],\n",
       "      dtype=uint8)"
      ]
     },
     "execution_count": 16,
     "metadata": {},
     "output_type": "execute_result"
    }
   ],
   "source": [
    "data = np.array(\n",
    "    [1, 1, 1, 1, 0, 1, 1, 1, 0, 0, 0, 0, 1, 1, 0, 0, 1, 1, 0, 0, 1, 1, 1, 0, 0, 0, 0, 0, 1, 0, 1, 0, 0, 1, 0, 0, 0, 0, 1, 0, 1, 0, 0, 1, 0, 1, 0, 0, 1, 0, 0, 0, 1, 0, 0, 1, 1, 1, 0, 0, 0, 0, 0, 1, 0, 1, 0, 0, 1, 0, 1, 1, 1, 0, 0, 0, 1, 0, 0, 0, 1, 0, 0, 1, 0, 0, 0, 0, 1, 0, 1, 1, 1, 1, 0, 1, 0, 0, 1, 0, 1, 0, 0, 0, 0, 1, 0, 0, 1, 0, 1, 0, 0, 1, 0, 1, 0, 0, 1, 0, 1, 0, 0, 1, 0, 1, 1, 1, 1, 0, 1, 1, 1, 0, 0, 0, 1, 1, 0, 0, 1, 0, 0, 1, 0, 1, 1, 1, 0, 0]\n",
    ").reshape((6, 25)).astype(\"uint8\") * 255\n",
    "\n",
    "data"
   ]
  },
  {
   "cell_type": "code",
   "execution_count": 18,
   "metadata": {},
   "outputs": [
    {
     "data": {
      "image/png": "[encoded data removed]",
      "text/plain": [
       "<Figure size 432x288 with 1 Axes>"
      ]
     },
     "metadata": {
      "needs_background": "light"
     },
     "output_type": "display_data"
    }
   ],
   "source": [
    "plt.imshow(data)\n",
    "plt.savefig(\"img.png\")"
   ]
  }
 ],
 "metadata": {
  "kernelspec": {
   "display_name": "Python 3",
   "language": "python",
   "name": "python3"
  },
  "language_info": {
   "codemirror_mode": {
    "name": "ipython",
    "version": 3
   },
   "file_extension": ".py",
   "mimetype": "text/x-python",
   "name": "python",
   "nbconvert_exporter": "python",
   "pygments_lexer": "ipython3",
   "version": "3.7.4"
  }
 },
 "nbformat": 4,
 "nbformat_minor": 2
}
